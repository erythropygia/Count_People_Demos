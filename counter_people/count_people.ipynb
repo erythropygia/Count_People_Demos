{
 "cells": [
  {
   "cell_type": "code",
   "execution_count": 1,
   "metadata": {},
   "outputs": [
    {
     "name": "stdout",
     "output_type": "stream",
     "text": [
      "25\n"
     ]
    }
   ],
   "source": [
    "import numpy as np\n",
    "import cv2 \n",
    "from PIL import Image\n",
    "distance=5\n",
    "a=distance**2\n",
    "print(a)\n"
   ]
  },
  {
   "cell_type": "code",
   "execution_count": 2,
   "metadata": {},
   "outputs": [],
   "source": [
    "cap = cv2.VideoCapture('video/TestVideo.avi')\n",
    "fgbg = cv2.bgsegm.BackgroundSubtractorMOG()\n"
   ]
  },
  {
   "cell_type": "code",
   "execution_count": 8,
   "metadata": {},
   "outputs": [
    {
     "ename": "error",
     "evalue": "Unknown C++ exception from OpenCV code",
     "output_type": "error",
     "traceback": [
      "\u001b[1;31m---------------------------------------------------------------------------\u001b[0m",
      "\u001b[1;31merror\u001b[0m                                     Traceback (most recent call last)",
      "\u001b[1;32mc:\\Users\\Stoupe\\Desktop\\Kişi sayma\\count_people.ipynb Hücre 3\u001b[0m in \u001b[0;36m<cell line: 5>\u001b[1;34m()\u001b[0m\n\u001b[0;32m      <a href='vscode-notebook-cell:/c%3A/Users/Stoupe/Desktop/Ki%C5%9Fi%20sayma/count_people.ipynb#ch0000002?line=2'>3</a>\u001b[0m contours_previous \u001b[39m=\u001b[39m []\n\u001b[0;32m      <a href='vscode-notebook-cell:/c%3A/Users/Stoupe/Desktop/Ki%C5%9Fi%20sayma/count_people.ipynb#ch0000002?line=3'>4</a>\u001b[0m contours_now \u001b[39m=\u001b[39m []\n\u001b[1;32m----> <a href='vscode-notebook-cell:/c%3A/Users/Stoupe/Desktop/Ki%C5%9Fi%20sayma/count_people.ipynb#ch0000002?line=4'>5</a>\u001b[0m fgmask\u001b[39m=\u001b[39m fgbg\u001b[39m.\u001b[39;49mapply(frame_empty)\n",
      "\u001b[1;31merror\u001b[0m: Unknown C++ exception from OpenCV code"
     ]
    }
   ],
   "source": [
    "im_frame = Image.open('video/frame_empty.png')\n",
    "frame_empty=np.array(im_frame.getdata())\n",
    "contours_previous = []\n",
    "contours_now = []\n",
    "fgmask= fgbg.apply(frame_empty)"
   ]
  },
  {
   "cell_type": "code",
   "execution_count": 7,
   "metadata": {},
   "outputs": [
    {
     "ename": "error",
     "evalue": "Unknown C++ exception from OpenCV code",
     "output_type": "error",
     "traceback": [
      "\u001b[1;31m---------------------------------------------------------------------------\u001b[0m",
      "\u001b[1;31merror\u001b[0m                                     Traceback (most recent call last)",
      "\u001b[1;32mc:\\Users\\Stoupe\\Desktop\\Kişi sayma\\count_people.ipynb Hücre 4\u001b[0m in \u001b[0;36m<cell line: 1>\u001b[1;34m()\u001b[0m\n\u001b[0;32m      <a href='vscode-notebook-cell:/c%3A/Users/Stoupe/Desktop/Ki%C5%9Fi%20sayma/count_people.ipynb#ch0000003?line=2'>3</a>\u001b[0m \u001b[39mif\u001b[39;00m frame \u001b[39mis\u001b[39;00m \u001b[39mNone\u001b[39;00m:\n\u001b[0;32m      <a href='vscode-notebook-cell:/c%3A/Users/Stoupe/Desktop/Ki%C5%9Fi%20sayma/count_people.ipynb#ch0000003?line=3'>4</a>\u001b[0m     \u001b[39mbreak\u001b[39;00m\n\u001b[1;32m----> <a href='vscode-notebook-cell:/c%3A/Users/Stoupe/Desktop/Ki%C5%9Fi%20sayma/count_people.ipynb#ch0000003?line=5'>6</a>\u001b[0m fgmask\u001b[39m=\u001b[39mfgbg\u001b[39m.\u001b[39;49mapply(frame)\n\u001b[0;32m      <a href='vscode-notebook-cell:/c%3A/Users/Stoupe/Desktop/Ki%C5%9Fi%20sayma/count_people.ipynb#ch0000003?line=7'>8</a>\u001b[0m \u001b[39mtry\u001b[39;00m:\n\u001b[0;32m      <a href='vscode-notebook-cell:/c%3A/Users/Stoupe/Desktop/Ki%C5%9Fi%20sayma/count_people.ipynb#ch0000003?line=8'>9</a>\u001b[0m     thresh\u001b[39m=\u001b[39mcv2\u001b[39m.\u001b[39mdilate(fgmask, \u001b[39mNone\u001b[39;00m, iterations\u001b[39m=\u001b[39m\u001b[39m2\u001b[39m)\n",
      "\u001b[1;31merror\u001b[0m: Unknown C++ exception from OpenCV code"
     ]
    }
   ],
   "source": [
    "while (cap.isOpened()):\n",
    "    ret,frame = cap.read()\n",
    "    if frame is None:\n",
    "        break\n",
    "\n",
    "    fgmask=fgbg.apply(frame)\n",
    "\n",
    "    try:\n",
    "        thresh=cv2.dilate(fgmask, None, iterations=2)\n",
    "        (cnts, _) = cv2.findContours(thresh.copy(), cv2.RETR_EXTERNAL,cv2.CHAIN_APPROX_SIMPLE)\n",
    "        contours_now = []\n",
    "        for c in cnts:\n",
    "            if cv2.contourArea(c) < 1000:\n",
    "                continue\n",
    "            (x,y,w,h)=cv2.boundingRect\n",
    "            cv2.rectangle(frame, (x,y), (x + w , y + h), (0,255,0), 2) \n",
    "            contours_now.append([x,y])\n",
    "   \n",
    "    except Exception as e:\n",
    "        print(e)\n",
    "        break\n",
    "    \n",
    "    keyboard = cv2.waitKey(30)\n",
    "    if keyboard == 'q' or keyboard == 27:\n",
    "        break"
   ]
  },
  {
   "cell_type": "code",
   "execution_count": null,
   "metadata": {},
   "outputs": [],
   "source": [
    "cap.release()\n",
    "cv2.destroyAllWindows()"
   ]
  }
 ],
 "metadata": {
  "kernelspec": {
   "display_name": "Python 3.9.13 64-bit",
   "language": "python",
   "name": "python3"
  },
  "language_info": {
   "codemirror_mode": {
    "name": "ipython",
    "version": 3
   },
   "file_extension": ".py",
   "mimetype": "text/x-python",
   "name": "python",
   "nbconvert_exporter": "python",
   "pygments_lexer": "ipython3",
   "version": "3.9.13"
  },
  "orig_nbformat": 4,
  "vscode": {
   "interpreter": {
    "hash": "a3a0f17582d63959f52f7e7373622a41488d8c732c65aea00d071566211aedf8"
   }
  }
 },
 "nbformat": 4,
 "nbformat_minor": 2
}
